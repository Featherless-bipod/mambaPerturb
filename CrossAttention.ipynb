{
 "cells": [
  {
   "cell_type": "markdown",
   "id": "16c963fc",
   "metadata": {},
   "source": [
    "### Imports and Set Up"
   ]
  },
  {
   "cell_type": "code",
   "execution_count": 1,
   "id": "5dae808e",
   "metadata": {},
   "outputs": [],
   "source": [
    "import scanpy as sc\n",
    "import torch\n",
    "import torch.nn as nn\n",
    "from torch.utils.data import TensorDataset, DataLoader\n",
    "from sklearn.model_selection import train_test_split\n",
    "from sklearn.preprocessing import MultiLabelBinarizer\n",
    "from sklearn.metrics import f1_score \n",
    "import numpy as np\n",
    "import pandas as pd\n",
    "import time\n",
    "import modelMLP \n",
    "import matplotlib.pyplot as plt\n",
    "from IPython.display import display, clear_output"
   ]
  },
  {
   "cell_type": "code",
   "execution_count": 2,
   "id": "d83bb476",
   "metadata": {},
   "outputs": [],
   "source": [
    "sc.settings.verbosity\n",
    "sc.logging.print_header()\n",
    "sc.settings.set_figure_params(dpi=80, facecolor='white')"
   ]
  },
  {
   "cell_type": "markdown",
   "id": "1e2038dc",
   "metadata": {},
   "source": [
    "### Prepping Data"
   ]
  },
  {
   "cell_type": "markdown",
   "id": "2365315e",
   "metadata": {},
   "source": [
    "##### expression profile"
   ]
  },
  {
   "cell_type": "code",
   "execution_count": 3,
   "id": "23907e49",
   "metadata": {},
   "outputs": [],
   "source": [
    "adata =  sc.read_h5ad(\"data/Norman_2019.h5ad\")  # replace with your path\n",
    "\n",
    "#export data from sc.read\n",
    "ddata = adata.X.toarray()\n",
    "labels = adata.obs['perturbation_name'].to_numpy()\n",
    "parsed_labels = [p.split('+') if p != 'control' else [] for p in labels]\n",
    "mlb = MultiLabelBinarizer()\n",
    "labels_int = mlb.fit_transform(parsed_labels)"
   ]
  },
  {
   "cell_type": "markdown",
   "id": "47d67643",
   "metadata": {},
   "source": [
    "##### creating positional encoding"
   ]
  },
  {
   "cell_type": "code",
   "execution_count": 4,
   "id": "7c477d03",
   "metadata": {},
   "outputs": [
    {
     "name": "stderr",
     "output_type": "stream",
     "text": [
      "INFO:pyensembl.sequence_data:Loaded sequence dictionary from /Users/steveyin/Library/Caches/pyensembl/GRCh38/ensembl109/Homo_sapiens.GRCh38.cdna.all.fa.gz.pickle\n",
      "INFO:pyensembl.sequence_data:Loaded sequence dictionary from /Users/steveyin/Library/Caches/pyensembl/GRCh38/ensembl109/Homo_sapiens.GRCh38.ncrna.fa.gz.pickle\n",
      "INFO:pyensembl.sequence_data:Loaded sequence dictionary from /Users/steveyin/Library/Caches/pyensembl/GRCh38/ensembl109/Homo_sapiens.GRCh38.pep.all.fa.gz.pickle\n"
     ]
    }
   ],
   "source": [
    "import pyensembl\n",
    "from tqdm import tqdm\n",
    "\n",
    "data = pyensembl.EnsemblRelease(109)\n",
    "data.download()\n",
    "data.index()"
   ]
  },
  {
   "cell_type": "code",
   "execution_count": 5,
   "id": "d0495676",
   "metadata": {},
   "outputs": [],
   "source": [
    "chromosome_lengths = {\n",
    "    #from https://www.ncbi.nlm.nih.gov/grc/human/data\n",
    "    # Autosomes\n",
    "    '1': 231223641,\n",
    "    '2': 240863511,\n",
    "    '3': 198255541,\n",
    "    '4': 189962376,\n",
    "    '5': 181358067,\n",
    "    '6': 170078524,\n",
    "    '7': 158970135,\n",
    "    '8': 144768136,\n",
    "    '9': 122084564,\n",
    "    '10': 133263006,\n",
    "    '11': 134634058,\n",
    "    '12': 133137821,\n",
    "    '13': 97983128,\n",
    "    '14': 91660769,\n",
    "    '15': 85089576,\n",
    "    '16': 83378703,\n",
    "    '17': 83481871,\n",
    "    '18': 80089650,\n",
    "    '19': 58440758,\n",
    "    '20': 63944268,\n",
    "    '21': 40088623,\n",
    "    '22': 40181019,\n",
    "    # Sex Chromosomes\n",
    "    'X': 154893034,\n",
    "    'Y': 26452288\n",
    "}\n",
    "\n",
    "chr_names = [str(i) for i in range(1, 23)] + ['X', 'Y']\n",
    "chromosome_map = {name: i for i, name in enumerate(chr_names)}"
   ]
  },
  {
   "cell_type": "code",
   "execution_count": 6,
   "id": "af3f3727",
   "metadata": {},
   "outputs": [
    {
     "name": "stderr",
     "output_type": "stream",
     "text": [
      "100%|██████████| 19018/19018 [00:00<00:00, 61569.49it/s]\n",
      "100%|██████████| 111255/111255 [00:00<00:00, 316140.93it/s]"
     ]
    },
    {
     "name": "stdout",
     "output_type": "stream",
     "text": [
      "\n",
      "SUCCESS: Final matrix generated with shape (111255, 24)\n"
     ]
    },
    {
     "name": "stderr",
     "output_type": "stream",
     "text": [
      "\n"
     ]
    }
   ],
   "source": [
    "gene_to_pos_encoding = {}\n",
    "zero_encoding = np.zeros(24)\n",
    "\n",
    "for gene_name in tqdm(adata.var_names):\n",
    "    try:\n",
    "        gene = data.genes_by_name(gene_name)\n",
    "        encoding = np.zeros(24)\n",
    "        contig = gene[0].contig\n",
    "        if pd.notna(contig) and contig in chromosome_map:\n",
    "            chr_index = chromosome_map[contig]\n",
    "            chr_length = chromosome_lengths.get(contig, 0)\n",
    "            if chr_length > 0:\n",
    "                encoding[chr_index] = gene[0].start / chr_length\n",
    "        gene_to_pos_encoding[gene_name] = encoding\n",
    "    except (ValueError, KeyError):\n",
    "        continue \n",
    "\n",
    "\n",
    "\n",
    "final_positional_encoding = []\n",
    "\n",
    "for perturbation_string in tqdm(adata.obs['perturbation_name']):\n",
    "    if perturbation_string == 'control':\n",
    "        final_positional_encoding.append(zero_encoding)\n",
    "        continue\n",
    "\n",
    "    gene_names_in_pert = perturbation_string.split('+')\n",
    "    \n",
    "    encodings_for_this_cell = []\n",
    "    for gene_name in gene_names_in_pert:\n",
    "        encoding = gene_to_pos_encoding.get(gene_name, zero_encoding)\n",
    "        encodings_for_this_cell.append(encoding)\n",
    "\n",
    "    averaged_encoding = np.mean(encodings_for_this_cell, axis=0)\n",
    "    final_positional_encoding.append(averaged_encoding)\n",
    "\n",
    "final_positional_encoding = np.array(final_positional_encoding)\n",
    "\n",
    "print(f\"\\nSUCCESS: Final matrix generated with shape {final_positional_encoding.shape}\")"
   ]
  },
  {
   "cell_type": "markdown",
   "id": "ae99f136",
   "metadata": {},
   "source": [
    "##### concatenating representations"
   ]
  },
  {
   "cell_type": "code",
   "execution_count": 7,
   "id": "81ebdd4a",
   "metadata": {},
   "outputs": [],
   "source": [
    "from scipy.sparse import hstack, csr_matrix\n",
    "from sklearn.model_selection import train_test_split"
   ]
  },
  {
   "cell_type": "markdown",
   "id": "913b8a0b",
   "metadata": {},
   "source": [
    "##### Prepping Model"
   ]
  },
  {
   "cell_type": "code",
   "execution_count": 7,
   "id": "5ae6a0fb",
   "metadata": {},
   "outputs": [
    {
     "name": "stdout",
     "output_type": "stream",
     "text": [
      "\n",
      "Placeholder section: 'adata' object not found.\n",
      "In your real notebook, this script would run the full training process.\n"
     ]
    },
    {
     "data": {
      "text/plain": [
       "'\\nprint(\"\\nStarting training of the Multi-Modal Cross-Attention Model...\")\\nfor epoch in range(num_epochs):\\n    model.train()\\n    total_train_loss = 0\\n    for (expression, position), labels in tqdm(train_loader, desc=f\"Epoch {epoch+1}/{num_epochs} [Train]\"):\\n        optimizer.zero_grad()\\n\\n            # The model\\'s forward pass now takes two inputs\\n        outputs = model(expression, position)\\n\\n        loss = criterion(outputs, labels)\\n        loss.backward()\\n        optimizer.step()\\n        total_train_loss += loss.item()\\n\\n    avg_train_loss = total_train_loss / len(train_loader)\\n\\n\\n    model.eval()\\n    all_test_preds, all_test_labels = [], []\\n    total_test_loss = 0\\n    with torch.no_grad():\\n        for (expression, position), labels in tqdm(test_loader, desc=f\"Epoch {epoch+1}/{num_epochs} [Val]\"):\\n            outputs = model(expression, position)\\n            loss = criterion(outputs, labels)\\n            total_test_loss += loss.item()\\n            preds = (torch.sigmoid(outputs) > 0.5).float()\\n            all_test_preds.append(preds.cpu().numpy())\\n            all_test_labels.append(labels.cpu().numpy())\\n\\n    avg_test_loss = total_test_loss / len(test_loader)\\n    val_f1 = f1_score(np.vstack(all_test_labels), np.vstack(all_test_preds), average=\\'micro\\')\\n\\n    print(f\"Epoch {epoch+1}/{num_epochs} | Train Loss: {avg_train_loss:.4f} | Val Loss: {avg_test_loss:.4f} | Val F1: {val_f1:.4f}\")\\n'"
      ]
     },
     "execution_count": 7,
     "metadata": {},
     "output_type": "execute_result"
    }
   ],
   "source": [
    "from torch.utils.data import Dataset, DataLoader, Subset\n",
    "from sklearn.model_selection import train_test_split\n",
    "from sklearn.metrics import f1_score\n",
    "import modelCROSSATTN\n",
    "\n",
    "expression_data = adata.X\n",
    "positional_data = final_positional_encoding\n",
    "    \n",
    "    # --- Create the full dataset object ---\n",
    "full_dataset = modelCROSSATTN.PerturbationMultiModalDataset(expression_data, positional_data, labels_int)\n",
    "\n",
    "    # --- Split indices for training and validation ---\n",
    "train_indices, test_indices = train_test_split(\n",
    "    range(len(full_dataset)), \n",
    "    test_size=0.2, \n",
    "    random_state=102\n",
    ")\n",
    "train_dataset = Subset(full_dataset, train_indices)\n",
    "test_dataset = Subset(full_dataset, test_indices)\n",
    "\n",
    "    # --- Create DataLoaders ---\n",
    "batch_size = 32 # You might need to adjust this based on GPU memory\n",
    "train_loader = DataLoader(train_dataset, batch_size=batch_size, shuffle=True)\n",
    "test_loader = DataLoader(test_dataset, batch_size=batch_size, shuffle=False)\n",
    "\n",
    "    # --- Define Hyperparameters and Instantiate Model ---\n",
    "model = modelCROSSATTN.MultiModalCrossAttentionModel(\n",
    "    n_genes=adata.n_vars,\n",
    "    n_positional_features=positional_data.shape[1],\n",
    "    n_classes=labels_int.shape[1],\n",
    "    embed_dim=128,\n",
    "    n_heads=8,\n",
    "    dropout=0.3\n",
    ")\n",
    "    \n",
    "criterion = nn.BCEWithLogitsLoss()\n",
    "optimizer = torch.optim.Adam(model.parameters(), lr=1e-4, weight_decay=1e-5)\n",
    "num_epochs = 65\n",
    "\n",
    "#Train and evaluation without graphing\n",
    "'''\n",
    "print(\"\\nStarting training of the Multi-Modal Cross-Attention Model...\")\n",
    "for epoch in range(num_epochs):\n",
    "    model.train()\n",
    "    total_train_loss = 0\n",
    "    for (expression, position), labels in tqdm(train_loader, desc=f\"Epoch {epoch+1}/{num_epochs} [Train]\"):\n",
    "        optimizer.zero_grad()\n",
    "            \n",
    "            # The model's forward pass now takes two inputs\n",
    "        outputs = model(expression, position)\n",
    "            \n",
    "        loss = criterion(outputs, labels)\n",
    "        loss.backward()\n",
    "        optimizer.step()\n",
    "        total_train_loss += loss.item()\n",
    "        \n",
    "    avg_train_loss = total_train_loss / len(train_loader)\n",
    "\n",
    "\n",
    "    model.eval()\n",
    "    all_test_preds, all_test_labels = [], []\n",
    "    total_test_loss = 0\n",
    "    with torch.no_grad():\n",
    "        for (expression, position), labels in tqdm(test_loader, desc=f\"Epoch {epoch+1}/{num_epochs} [Val]\"):\n",
    "            outputs = model(expression, position)\n",
    "            loss = criterion(outputs, labels)\n",
    "            total_test_loss += loss.item()\n",
    "            preds = (torch.sigmoid(outputs) > 0.5).float()\n",
    "            all_test_preds.append(preds.cpu().numpy())\n",
    "            all_test_labels.append(labels.cpu().numpy())\n",
    "        \n",
    "    avg_test_loss = total_test_loss / len(test_loader)\n",
    "    val_f1 = f1_score(np.vstack(all_test_labels), np.vstack(all_test_preds), average='micro')\n",
    "        \n",
    "    print(f\"Epoch {epoch+1}/{num_epochs} | Train Loss: {avg_train_loss:.4f} | Val Loss: {avg_test_loss:.4f} | Val F1: {val_f1:.4f}\")\n",
    "'''\n"
   ]
  },
  {
   "cell_type": "code",
   "execution_count": 8,
   "id": "68fd08cf",
   "metadata": {},
   "outputs": [
    {
     "data": {
      "image/png": "[encoded data removed]",
      "text/plain": [
       "<Figure size 1280x480 with 2 Axes>"
      ]
     },
     "metadata": {
      "image/png": {
       "height": 408,
       "width": 1054
      }
     },
     "output_type": "display_data"
    },
    {
     "name": "stdout",
     "output_type": "stream",
     "text": [
      "\n",
      "Starting training with live plotting...\n"
     ]
    },
    {
     "name": "stderr",
     "output_type": "stream",
     "text": [
      "                                                                       \r"
     ]
    },
    {
     "ename": "KeyboardInterrupt",
     "evalue": "",
     "output_type": "error",
     "traceback": [
      "\u001b[31m---------------------------------------------------------------------------\u001b[39m",
      "\u001b[31mKeyboardInterrupt\u001b[39m                         Traceback (most recent call last)",
      "\u001b[36mCell\u001b[39m\u001b[36m \u001b[39m\u001b[32mIn[8]\u001b[39m\u001b[32m, line 35\u001b[39m\n\u001b[32m     32\u001b[39m optimizer.zero_grad()\n\u001b[32m     34\u001b[39m \u001b[38;5;66;03m# The model's forward pass now takes two inputs\u001b[39;00m\n\u001b[32m---> \u001b[39m\u001b[32m35\u001b[39m outputs = \u001b[43mmodel\u001b[49m\u001b[43m(\u001b[49m\u001b[43mexpression\u001b[49m\u001b[43m,\u001b[49m\u001b[43m \u001b[49m\u001b[43mposition\u001b[49m\u001b[43m)\u001b[49m\n\u001b[32m     37\u001b[39m loss = criterion(outputs, labels)\n\u001b[32m     38\u001b[39m loss.backward()\n",
      "\u001b[36mFile \u001b[39m\u001b[32m/Library/Frameworks/Python.framework/Versions/3.12/lib/python3.12/site-packages/torch/nn/modules/module.py:1751\u001b[39m, in \u001b[36mModule._wrapped_call_impl\u001b[39m\u001b[34m(self, *args, **kwargs)\u001b[39m\n\u001b[32m   1749\u001b[39m     \u001b[38;5;28;01mreturn\u001b[39;00m \u001b[38;5;28mself\u001b[39m._compiled_call_impl(*args, **kwargs)  \u001b[38;5;66;03m# type: ignore[misc]\u001b[39;00m\n\u001b[32m   1750\u001b[39m \u001b[38;5;28;01melse\u001b[39;00m:\n\u001b[32m-> \u001b[39m\u001b[32m1751\u001b[39m     \u001b[38;5;28;01mreturn\u001b[39;00m \u001b[38;5;28;43mself\u001b[39;49m\u001b[43m.\u001b[49m\u001b[43m_call_impl\u001b[49m\u001b[43m(\u001b[49m\u001b[43m*\u001b[49m\u001b[43margs\u001b[49m\u001b[43m,\u001b[49m\u001b[43m \u001b[49m\u001b[43m*\u001b[49m\u001b[43m*\u001b[49m\u001b[43mkwargs\u001b[49m\u001b[43m)\u001b[49m\n",
      "\u001b[36mFile \u001b[39m\u001b[32m/Library/Frameworks/Python.framework/Versions/3.12/lib/python3.12/site-packages/torch/nn/modules/module.py:1762\u001b[39m, in \u001b[36mModule._call_impl\u001b[39m\u001b[34m(self, *args, **kwargs)\u001b[39m\n\u001b[32m   1757\u001b[39m \u001b[38;5;66;03m# If we don't have any hooks, we want to skip the rest of the logic in\u001b[39;00m\n\u001b[32m   1758\u001b[39m \u001b[38;5;66;03m# this function, and just call forward.\u001b[39;00m\n\u001b[32m   1759\u001b[39m \u001b[38;5;28;01mif\u001b[39;00m \u001b[38;5;129;01mnot\u001b[39;00m (\u001b[38;5;28mself\u001b[39m._backward_hooks \u001b[38;5;129;01mor\u001b[39;00m \u001b[38;5;28mself\u001b[39m._backward_pre_hooks \u001b[38;5;129;01mor\u001b[39;00m \u001b[38;5;28mself\u001b[39m._forward_hooks \u001b[38;5;129;01mor\u001b[39;00m \u001b[38;5;28mself\u001b[39m._forward_pre_hooks\n\u001b[32m   1760\u001b[39m         \u001b[38;5;129;01mor\u001b[39;00m _global_backward_pre_hooks \u001b[38;5;129;01mor\u001b[39;00m _global_backward_hooks\n\u001b[32m   1761\u001b[39m         \u001b[38;5;129;01mor\u001b[39;00m _global_forward_hooks \u001b[38;5;129;01mor\u001b[39;00m _global_forward_pre_hooks):\n\u001b[32m-> \u001b[39m\u001b[32m1762\u001b[39m     \u001b[38;5;28;01mreturn\u001b[39;00m \u001b[43mforward_call\u001b[49m\u001b[43m(\u001b[49m\u001b[43m*\u001b[49m\u001b[43margs\u001b[49m\u001b[43m,\u001b[49m\u001b[43m \u001b[49m\u001b[43m*\u001b[49m\u001b[43m*\u001b[49m\u001b[43mkwargs\u001b[49m\u001b[43m)\u001b[49m\n\u001b[32m   1764\u001b[39m result = \u001b[38;5;28;01mNone\u001b[39;00m\n\u001b[32m   1765\u001b[39m called_always_called_hooks = \u001b[38;5;28mset\u001b[39m()\n",
      "\u001b[36mFile \u001b[39m\u001b[32m~/Documents/VSCode/PerturbMamba/Code/modelCROSSATTN.py:100\u001b[39m, in \u001b[36mMultiModalCrossAttentionModel.forward\u001b[39m\u001b[34m(self, expression_input, position_input)\u001b[39m\n\u001b[32m     95\u001b[39m \u001b[38;5;28;01mdef\u001b[39;00m\u001b[38;5;250m \u001b[39m\u001b[34mforward\u001b[39m(\u001b[38;5;28mself\u001b[39m, expression_input, position_input):\n\u001b[32m     96\u001b[39m     \u001b[38;5;66;03m# expression_input shape: (batch_size, n_genes)\u001b[39;00m\n\u001b[32m     97\u001b[39m     \u001b[38;5;66;03m# position_input shape: (batch_size, n_positional_features)\u001b[39;00m\n\u001b[32m     98\u001b[39m     \n\u001b[32m     99\u001b[39m     \u001b[38;5;66;03m# 1. Pass each input through its respective tower to get embeddings.\u001b[39;00m\n\u001b[32m--> \u001b[39m\u001b[32m100\u001b[39m     expr_embedding = \u001b[38;5;28;43mself\u001b[39;49m\u001b[43m.\u001b[49m\u001b[43mexpression_encoder\u001b[49m\u001b[43m(\u001b[49m\u001b[43mexpression_input\u001b[49m\u001b[43m)\u001b[49m \u001b[38;5;66;03m# Shape: (batch_size, embed_dim)\u001b[39;00m\n\u001b[32m    101\u001b[39m     pos_embedding = \u001b[38;5;28mself\u001b[39m.positional_encoder(position_input)   \u001b[38;5;66;03m# Shape: (batch_size, embed_dim)\u001b[39;00m\n\u001b[32m    103\u001b[39m     \u001b[38;5;66;03m# 2. Prepare inputs for the cross-attention layer.\u001b[39;00m\n\u001b[32m    104\u001b[39m     \u001b[38;5;66;03m# MultiheadAttention expects shape (sequence_length, batch_size, embed_dim).\u001b[39;00m\n\u001b[32m    105\u001b[39m     \u001b[38;5;66;03m# Since we have one vector per cell, our sequence_length is 1.\u001b[39;00m\n\u001b[32m    106\u001b[39m     \u001b[38;5;66;03m# We use .unsqueeze(0) to add this dimension.\u001b[39;00m\n",
      "\u001b[36mFile \u001b[39m\u001b[32m/Library/Frameworks/Python.framework/Versions/3.12/lib/python3.12/site-packages/torch/nn/modules/module.py:1751\u001b[39m, in \u001b[36mModule._wrapped_call_impl\u001b[39m\u001b[34m(self, *args, **kwargs)\u001b[39m\n\u001b[32m   1749\u001b[39m     \u001b[38;5;28;01mreturn\u001b[39;00m \u001b[38;5;28mself\u001b[39m._compiled_call_impl(*args, **kwargs)  \u001b[38;5;66;03m# type: ignore[misc]\u001b[39;00m\n\u001b[32m   1750\u001b[39m \u001b[38;5;28;01melse\u001b[39;00m:\n\u001b[32m-> \u001b[39m\u001b[32m1751\u001b[39m     \u001b[38;5;28;01mreturn\u001b[39;00m \u001b[38;5;28;43mself\u001b[39;49m\u001b[43m.\u001b[49m\u001b[43m_call_impl\u001b[49m\u001b[43m(\u001b[49m\u001b[43m*\u001b[49m\u001b[43margs\u001b[49m\u001b[43m,\u001b[49m\u001b[43m \u001b[49m\u001b[43m*\u001b[49m\u001b[43m*\u001b[49m\u001b[43mkwargs\u001b[49m\u001b[43m)\u001b[49m\n",
      "\u001b[36mFile \u001b[39m\u001b[32m/Library/Frameworks/Python.framework/Versions/3.12/lib/python3.12/site-packages/torch/nn/modules/module.py:1762\u001b[39m, in \u001b[36mModule._call_impl\u001b[39m\u001b[34m(self, *args, **kwargs)\u001b[39m\n\u001b[32m   1757\u001b[39m \u001b[38;5;66;03m# If we don't have any hooks, we want to skip the rest of the logic in\u001b[39;00m\n\u001b[32m   1758\u001b[39m \u001b[38;5;66;03m# this function, and just call forward.\u001b[39;00m\n\u001b[32m   1759\u001b[39m \u001b[38;5;28;01mif\u001b[39;00m \u001b[38;5;129;01mnot\u001b[39;00m (\u001b[38;5;28mself\u001b[39m._backward_hooks \u001b[38;5;129;01mor\u001b[39;00m \u001b[38;5;28mself\u001b[39m._backward_pre_hooks \u001b[38;5;129;01mor\u001b[39;00m \u001b[38;5;28mself\u001b[39m._forward_hooks \u001b[38;5;129;01mor\u001b[39;00m \u001b[38;5;28mself\u001b[39m._forward_pre_hooks\n\u001b[32m   1760\u001b[39m         \u001b[38;5;129;01mor\u001b[39;00m _global_backward_pre_hooks \u001b[38;5;129;01mor\u001b[39;00m _global_backward_hooks\n\u001b[32m   1761\u001b[39m         \u001b[38;5;129;01mor\u001b[39;00m _global_forward_hooks \u001b[38;5;129;01mor\u001b[39;00m _global_forward_pre_hooks):\n\u001b[32m-> \u001b[39m\u001b[32m1762\u001b[39m     \u001b[38;5;28;01mreturn\u001b[39;00m \u001b[43mforward_call\u001b[49m\u001b[43m(\u001b[49m\u001b[43m*\u001b[49m\u001b[43margs\u001b[49m\u001b[43m,\u001b[49m\u001b[43m \u001b[49m\u001b[43m*\u001b[49m\u001b[43m*\u001b[49m\u001b[43mkwargs\u001b[49m\u001b[43m)\u001b[49m\n\u001b[32m   1764\u001b[39m result = \u001b[38;5;28;01mNone\u001b[39;00m\n\u001b[32m   1765\u001b[39m called_always_called_hooks = \u001b[38;5;28mset\u001b[39m()\n",
      "\u001b[36mFile \u001b[39m\u001b[32m/Library/Frameworks/Python.framework/Versions/3.12/lib/python3.12/site-packages/torch/nn/modules/container.py:240\u001b[39m, in \u001b[36mSequential.forward\u001b[39m\u001b[34m(self, input)\u001b[39m\n\u001b[32m    238\u001b[39m \u001b[38;5;28;01mdef\u001b[39;00m\u001b[38;5;250m \u001b[39m\u001b[34mforward\u001b[39m(\u001b[38;5;28mself\u001b[39m, \u001b[38;5;28minput\u001b[39m):\n\u001b[32m    239\u001b[39m     \u001b[38;5;28;01mfor\u001b[39;00m module \u001b[38;5;129;01min\u001b[39;00m \u001b[38;5;28mself\u001b[39m:\n\u001b[32m--> \u001b[39m\u001b[32m240\u001b[39m         \u001b[38;5;28minput\u001b[39m = \u001b[43mmodule\u001b[49m\u001b[43m(\u001b[49m\u001b[38;5;28;43minput\u001b[39;49m\u001b[43m)\u001b[49m\n\u001b[32m    241\u001b[39m     \u001b[38;5;28;01mreturn\u001b[39;00m \u001b[38;5;28minput\u001b[39m\n",
      "\u001b[36mFile \u001b[39m\u001b[32m/Library/Frameworks/Python.framework/Versions/3.12/lib/python3.12/site-packages/torch/nn/modules/module.py:1751\u001b[39m, in \u001b[36mModule._wrapped_call_impl\u001b[39m\u001b[34m(self, *args, **kwargs)\u001b[39m\n\u001b[32m   1749\u001b[39m     \u001b[38;5;28;01mreturn\u001b[39;00m \u001b[38;5;28mself\u001b[39m._compiled_call_impl(*args, **kwargs)  \u001b[38;5;66;03m# type: ignore[misc]\u001b[39;00m\n\u001b[32m   1750\u001b[39m \u001b[38;5;28;01melse\u001b[39;00m:\n\u001b[32m-> \u001b[39m\u001b[32m1751\u001b[39m     \u001b[38;5;28;01mreturn\u001b[39;00m \u001b[38;5;28;43mself\u001b[39;49m\u001b[43m.\u001b[49m\u001b[43m_call_impl\u001b[49m\u001b[43m(\u001b[49m\u001b[43m*\u001b[49m\u001b[43margs\u001b[49m\u001b[43m,\u001b[49m\u001b[43m \u001b[49m\u001b[43m*\u001b[49m\u001b[43m*\u001b[49m\u001b[43mkwargs\u001b[49m\u001b[43m)\u001b[49m\n",
      "\u001b[36mFile \u001b[39m\u001b[32m/Library/Frameworks/Python.framework/Versions/3.12/lib/python3.12/site-packages/torch/nn/modules/module.py:1762\u001b[39m, in \u001b[36mModule._call_impl\u001b[39m\u001b[34m(self, *args, **kwargs)\u001b[39m\n\u001b[32m   1757\u001b[39m \u001b[38;5;66;03m# If we don't have any hooks, we want to skip the rest of the logic in\u001b[39;00m\n\u001b[32m   1758\u001b[39m \u001b[38;5;66;03m# this function, and just call forward.\u001b[39;00m\n\u001b[32m   1759\u001b[39m \u001b[38;5;28;01mif\u001b[39;00m \u001b[38;5;129;01mnot\u001b[39;00m (\u001b[38;5;28mself\u001b[39m._backward_hooks \u001b[38;5;129;01mor\u001b[39;00m \u001b[38;5;28mself\u001b[39m._backward_pre_hooks \u001b[38;5;129;01mor\u001b[39;00m \u001b[38;5;28mself\u001b[39m._forward_hooks \u001b[38;5;129;01mor\u001b[39;00m \u001b[38;5;28mself\u001b[39m._forward_pre_hooks\n\u001b[32m   1760\u001b[39m         \u001b[38;5;129;01mor\u001b[39;00m _global_backward_pre_hooks \u001b[38;5;129;01mor\u001b[39;00m _global_backward_hooks\n\u001b[32m   1761\u001b[39m         \u001b[38;5;129;01mor\u001b[39;00m _global_forward_hooks \u001b[38;5;129;01mor\u001b[39;00m _global_forward_pre_hooks):\n\u001b[32m-> \u001b[39m\u001b[32m1762\u001b[39m     \u001b[38;5;28;01mreturn\u001b[39;00m \u001b[43mforward_call\u001b[49m\u001b[43m(\u001b[49m\u001b[43m*\u001b[49m\u001b[43margs\u001b[49m\u001b[43m,\u001b[49m\u001b[43m \u001b[49m\u001b[43m*\u001b[49m\u001b[43m*\u001b[49m\u001b[43mkwargs\u001b[49m\u001b[43m)\u001b[49m\n\u001b[32m   1764\u001b[39m result = \u001b[38;5;28;01mNone\u001b[39;00m\n\u001b[32m   1765\u001b[39m called_always_called_hooks = \u001b[38;5;28mset\u001b[39m()\n",
      "\u001b[36mFile \u001b[39m\u001b[32m/Library/Frameworks/Python.framework/Versions/3.12/lib/python3.12/site-packages/torch/nn/modules/linear.py:125\u001b[39m, in \u001b[36mLinear.forward\u001b[39m\u001b[34m(self, input)\u001b[39m\n\u001b[32m    124\u001b[39m \u001b[38;5;28;01mdef\u001b[39;00m\u001b[38;5;250m \u001b[39m\u001b[34mforward\u001b[39m(\u001b[38;5;28mself\u001b[39m, \u001b[38;5;28minput\u001b[39m: Tensor) -> Tensor:\n\u001b[32m--> \u001b[39m\u001b[32m125\u001b[39m     \u001b[38;5;28;01mreturn\u001b[39;00m \u001b[43mF\u001b[49m\u001b[43m.\u001b[49m\u001b[43mlinear\u001b[49m\u001b[43m(\u001b[49m\u001b[38;5;28;43minput\u001b[39;49m\u001b[43m,\u001b[49m\u001b[43m \u001b[49m\u001b[38;5;28;43mself\u001b[39;49m\u001b[43m.\u001b[49m\u001b[43mweight\u001b[49m\u001b[43m,\u001b[49m\u001b[43m \u001b[49m\u001b[38;5;28;43mself\u001b[39;49m\u001b[43m.\u001b[49m\u001b[43mbias\u001b[49m\u001b[43m)\u001b[49m\n",
      "\u001b[31mKeyboardInterrupt\u001b[39m: "
     ]
    },
    {
     "data": {
      "image/png": "[encoded data removed]",
      "text/plain": [
       "<Figure size 1280x480 with 2 Axes>"
      ]
     },
     "metadata": {
      "image/png": {
       "height": 408,
       "width": 1054
      }
     },
     "output_type": "display_data"
    }
   ],
   "source": [
    "import matplotlib.pyplot as plt\n",
    "from IPython.display import display, clear_output\n",
    "import time\n",
    "\n",
    "# --- This block assumes the following variables are already defined: ---\n",
    "# model: Your instantiated PyTorch model\n",
    "# train_loader: Your DataLoader for the training set\n",
    "# test_loader: Your DataLoader for the validation/test set\n",
    "# criterion: Your loss function (e.g., nn.BCEWithLogitsLoss())\n",
    "# optimizer: Your optimizer (e.g., torch.optim.Adam(...))\n",
    "# num_epochs: The total number of epochs to train for\n",
    "\n",
    "# --- 1. Initialization for Plotting ---\n",
    "# Create lists to store the history of metrics\n",
    "train_losses = []\n",
    "val_losses = []\n",
    "train_f1_scores = []\n",
    "val_f1_scores = []\n",
    "\n",
    "# Create a figure and axes for the plots\n",
    "fig, (ax1, ax2) = plt.subplots(1, 2, figsize=(16, 6))\n",
    "# Initially display the empty figure\n",
    "display(fig)\n",
    "\n",
    "print(\"\\nStarting training with live plotting...\")\n",
    "for epoch in range(num_epochs):\n",
    "    # --- Training Phase ---\n",
    "    model.train()\n",
    "    total_train_loss = 0\n",
    "    # Use tqdm for a progress bar on the training data\n",
    "    for (expression, position), labels in tqdm(train_loader, desc=f\"Epoch {epoch+1}/{num_epochs} [Train]\", leave=False):\n",
    "        optimizer.zero_grad()\n",
    "        \n",
    "        # The model's forward pass now takes two inputs\n",
    "        outputs = model(expression, position)\n",
    "        \n",
    "        loss = criterion(outputs, labels)\n",
    "        loss.backward()\n",
    "        optimizer.step()\n",
    "        total_train_loss += loss.item()\n",
    "        \n",
    "    avg_train_loss = total_train_loss / len(train_loader)\n",
    "    train_losses.append(avg_train_loss)\n",
    "\n",
    "    # --- Evaluation Phase ---\n",
    "    model.eval()\n",
    "    all_val_preds, all_val_labels = [], []\n",
    "    all_train_preds, all_train_labels = [], []\n",
    "    total_val_loss = 0\n",
    "    \n",
    "    with torch.no_grad():\n",
    "        # Get validation metrics\n",
    "        for (expression, position), labels in tqdm(test_loader, desc=f\"Epoch {epoch+1}/{num_epochs} [Val]\", leave=False):\n",
    "            outputs = model(expression, position)\n",
    "            loss = criterion(outputs, labels)\n",
    "            total_val_loss += loss.item()\n",
    "            preds = (torch.sigmoid(outputs) > 0.5).float()\n",
    "            all_val_preds.append(preds.cpu().numpy())\n",
    "            all_val_labels.append(labels.cpu().numpy())\n",
    "\n",
    "        # Also get training metrics for comparison (important for diagnosing overfitting)\n",
    "        for (expression, position), labels in train_loader:\n",
    "            outputs = model(expression, position)\n",
    "            preds = (torch.sigmoid(outputs) > 0.5).float()\n",
    "            all_train_preds.append(preds.cpu().numpy())\n",
    "            all_train_labels.append(labels.cpu().numpy())\n",
    "\n",
    "    avg_val_loss = total_val_loss / len(test_loader)\n",
    "    val_losses.append(avg_val_loss)\n",
    "\n",
    "    train_f1 = f1_score(np.vstack(all_train_labels), np.vstack(all_train_preds), average='micro')\n",
    "    val_f1 = f1_score(np.vstack(all_val_labels), np.vstack(all_val_preds), average='micro')\n",
    "    train_f1_scores.append(train_f1)\n",
    "    val_f1_scores.append(val_f1)\n",
    "        \n",
    "    # --- 2. Live Plotting Logic ---\n",
    "    # Clear the previous plot from each axis\n",
    "    ax1.clear()\n",
    "    ax2.clear()\n",
    "    \n",
    "    # Plot Loss Curves\n",
    "    ax1.plot(train_losses, label='Training Loss', color='blue')\n",
    "    ax1.plot(val_losses, label='Validation Loss', color='orange')\n",
    "    ax1.set_title('Loss over Epochs')\n",
    "    ax1.set_xlabel('Epoch')\n",
    "    ax1.set_ylabel('Loss')\n",
    "    ax1.legend()\n",
    "    ax1.grid(True)\n",
    "    \n",
    "    # Plot F1 Score Curves\n",
    "    ax2.plot(train_f1_scores, label='Training F1 Score', color='blue')\n",
    "    ax2.plot(val_f1_scores, label='Validation F1 Score', color='orange')\n",
    "    ax2.set_title('Micro F1 Score over Epochs')\n",
    "    ax2.set_xlabel('Epoch')\n",
    "    ax2.set_ylabel('F1 Score')\n",
    "    ax2.legend()\n",
    "    ax2.grid(True)\n",
    "    \n",
    "    fig.tight_layout()\n",
    "    \n",
    "    # Redraw the plot in the same cell\n",
    "    clear_output(wait=True)\n",
    "    display(fig)\n",
    "    time.sleep(0.1) # A small pause to ensure the plot renders smoothly\n",
    "\n",
    "    # Print a summary for the current epoch\n",
    "    print(f\"Epoch {epoch+1}/{num_epochs} | Train Loss: {avg_train_loss:.4f} | Val Loss: {avg_val_loss:.4f} | Train F1: {train_f1:.4f} | Val F1: {val_f1:.4f}\")\n",
    "\n",
    "# --- 3. Cleanup after the loop is done ---\n",
    "plt.close(fig)\n",
    "print(f\"\\nTraining Complete. Final Validation F1 Score: {val_f1_scores[-1]:.4f}\")"
   ]
  }
 ],
 "metadata": {
  "kernelspec": {
   "display_name": "Python 3",
   "language": "python",
   "name": "python3"
  },
  "language_info": {
   "codemirror_mode": {
    "name": "ipython",
    "version": 3
   },
   "file_extension": ".py",
   "mimetype": "text/x-python",
   "name": "python",
   "nbconvert_exporter": "python",
   "pygments_lexer": "ipython3",
   "version": "3.12.4"
  }
 },
 "nbformat": 4,
 "nbformat_minor": 5
}
