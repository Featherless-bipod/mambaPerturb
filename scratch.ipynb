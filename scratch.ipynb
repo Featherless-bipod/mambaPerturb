{
 "cells": [
  {
   "cell_type": "markdown",
   "id": "16c963fc",
   "metadata": {},
   "source": [
    "### Imports and Set Up"
   ]
  },
  {
   "cell_type": "code",
   "execution_count": 1,
   "id": "5dae808e",
   "metadata": {},
   "outputs": [],
   "source": [
    "import scanpy as sc\n",
    "import torch\n",
    "import torch.nn as nn\n",
    "from torch.utils.data import TensorDataset, DataLoader\n",
    "from sklearn.model_selection import train_test_split\n",
    "from sklearn.preprocessing import MultiLabelBinarizer\n",
    "from sklearn.metrics import f1_score \n",
    "import numpy as np\n",
    "import pandas as pd\n",
    "import time\n",
    "import modelMLP \n",
    "import matplotlib.pyplot as plt\n",
    "from IPython.display import display, clear_output"
   ]
  },
  {
   "cell_type": "code",
   "execution_count": 2,
   "id": "d83bb476",
   "metadata": {},
   "outputs": [],
   "source": [
    "sc.settings.verbosity\n",
    "sc.logging.print_header()\n",
    "sc.settings.set_figure_params(dpi=80, facecolor='white')"
   ]
  },
  {
   "cell_type": "markdown",
   "id": "1e2038dc",
   "metadata": {},
   "source": [
    "### Prepping Data"
   ]
  },
  {
   "cell_type": "code",
   "execution_count": 3,
   "id": "fbdfceee",
   "metadata": {},
   "outputs": [],
   "source": [
    "#obtain data from file\n",
    "adata =  sc.read_h5ad(\"data/Norman_2019.h5ad\")  # replace with your path"
   ]
  },
  {
   "cell_type": "code",
   "execution_count": 12,
   "id": "b8ce0223",
   "metadata": {},
   "outputs": [
    {
     "ename": "",
     "evalue": "",
     "output_type": "error",
     "traceback": [
      "\u001b[1;31mThe Kernel crashed while executing code in the current cell or a previous cell. \n",
      "\u001b[1;31mPlease review the code in the cell(s) to identify a possible cause of the failure. \n",
      "\u001b[1;31mClick <a href='https://aka.ms/vscodeJupyterKernelCrash'>here</a> for more info. \n",
      "\u001b[1;31mView Jupyter <a href='command:jupyter.viewOutput'>log</a> for further details."
     ]
    }
   ],
   "source": [
    "ddata = adata.X.toarray()\n",
    "ddata_reshaped = ddata[:, :, np.newaxis]\n",
    "n_cells = ddata.shape[0]\n",
    "positional_encodings_expanded = np.tile(positional_encodings, (n_cells, 1, 1))\n",
    "X_sequence_features = np.concatenate([ddata_reshaped, positional_encodings_expanded], axis=2)\n",
    "print(\"Shape of the new feature matrix for a sequence model:\", X_sequence_features.shape)"
   ]
  },
  {
   "cell_type": "code",
   "execution_count": null,
   "id": "d6f68ec7",
   "metadata": {},
   "outputs": [],
   "source": [
    "#export data from sc.read\n",
    "ddata = adata.X.toarray()\n",
    "labels = adata.obs['perturbation_name'].to_numpy()\n",
    "parsed_labels = [p.split('+') if p != 'control' else [] for p in labels]"
   ]
  },
  {
   "cell_type": "code",
   "execution_count": null,
   "id": "50014bc2",
   "metadata": {},
   "outputs": [],
   "source": [
    "#multilabel encode the data \n",
    "mlb = MultiLabelBinarizer()\n",
    "labels_int = mlb.fit_transform(parsed_labels)"
   ]
  },
  {
   "cell_type": "code",
   "execution_count": null,
   "id": "f133d363",
   "metadata": {},
   "outputs": [],
   "source": [
    "#split data\n",
    "X_train, X_test, y_train, y_test = train_test_split(\n",
    "    ddata, \n",
    "    labels_int, \n",
    "    test_size=0.2, \n",
    "    random_state=67, #SIX SEVEENNNNNNNNNN\n",
    "    #stratify=labels_int\n",
    ")"
   ]
  },
  {
   "cell_type": "markdown",
   "id": "15a46beb",
   "metadata": {},
   "source": [
    "##### More embedding"
   ]
  },
  {
   "cell_type": "code",
   "execution_count": 5,
   "id": "b5e12717",
   "metadata": {},
   "outputs": [],
   "source": [
    "import pyensembl\n",
    "from tqdm import tqdm"
   ]
  },
  {
   "cell_type": "code",
   "execution_count": 6,
   "id": "85243fc8",
   "metadata": {},
   "outputs": [
    {
     "name": "stderr",
     "output_type": "stream",
     "text": [
      "INFO:pyensembl.sequence_data:Loaded sequence dictionary from /Users/steveyin/Library/Caches/pyensembl/GRCh38/ensembl109/Homo_sapiens.GRCh38.cdna.all.fa.gz.pickle\n",
      "INFO:pyensembl.sequence_data:Loaded sequence dictionary from /Users/steveyin/Library/Caches/pyensembl/GRCh38/ensembl109/Homo_sapiens.GRCh38.ncrna.fa.gz.pickle\n",
      "INFO:pyensembl.sequence_data:Loaded sequence dictionary from /Users/steveyin/Library/Caches/pyensembl/GRCh38/ensembl109/Homo_sapiens.GRCh38.pep.all.fa.gz.pickle\n",
      "100%|██████████| 19018/19018 [00:00<00:00, 109745.90it/s]\n"
     ]
    }
   ],
   "source": [
    "data = pyensembl.EnsemblRelease(109)\n",
    "data.download()\n",
    "data.index()\n",
    "\n",
    "gene_names = adata.var['index']\n",
    "\n",
    "gene_data = []\n",
    "for gene_name in tqdm(gene_names):\n",
    "    try:\n",
    "        gene = data.gene_by_id(gene_name)\n",
    "        gene_data.append({\n",
    "            'gene_name': gene_name,\n",
    "            'contig': gene.contig,\n",
    "            'start': gene.start,\n",
    "            'end': gene.end\n",
    "        })\n",
    "    except ValueError:\n",
    "        # This happens if the gene name is not found in the database\n",
    "        gene_data.append({\n",
    "            'gene_name': gene_name,\n",
    "            'contig': None,\n",
    "            'start': None,\n",
    "            'end': None\n",
    "        })\n",
    "\n",
    "gene_info_df = pd.DataFrame(gene_data)\n",
    "\n"
   ]
  },
  {
   "cell_type": "code",
   "execution_count": 7,
   "id": "73ad66c9",
   "metadata": {},
   "outputs": [],
   "source": [
    "chromosome_lengths = {\n",
    "    # Autosomes\n",
    "    '1': 248956422,\n",
    "    '2': 242193529,\n",
    "    '3': 198295559,\n",
    "    '4': 190214555,\n",
    "    '5': 181538259,\n",
    "    '6': 170805979,\n",
    "    '7': 159345973,\n",
    "    '8': 145138636,\n",
    "    '9': 138394717,\n",
    "    '10': 133797422,\n",
    "    '11': 135086622,\n",
    "    '12': 133275309,\n",
    "    '13': 114364328,\n",
    "    '14': 107043718,\n",
    "    '15': 101991189,\n",
    "    '16': 90338345,\n",
    "    '17': 83257441,\n",
    "    '18': 80373285,\n",
    "    '19': 58617616,\n",
    "    '20': 64444167,\n",
    "    '21': 46709983,\n",
    "    '22': 50818468,\n",
    "    # Sex Chromosomes\n",
    "    'X': 156040895,\n",
    "    'Y': 57227415\n",
    "}\n",
    "\n",
    "chr_names = [str(i) for i in range(1, 23)] + ['X', 'Y']\n",
    "chromosome_map = {name: i for i, name in enumerate(chr_names)}"
   ]
  },
  {
   "cell_type": "code",
   "execution_count": 8,
   "id": "a991dfec",
   "metadata": {},
   "outputs": [
    {
     "data": {
      "text/plain": [
       "array([[0.00011871, 0.        , 0.        , ..., 0.        , 0.        ,\n",
       "        0.        ],\n",
       "       [0.00035868, 0.        , 0.        , ..., 0.        , 0.        ,\n",
       "        0.        ],\n",
       "       [0.00074397, 0.        , 0.        , ..., 0.        , 0.        ,\n",
       "        0.        ],\n",
       "       ...,\n",
       "       [0.        , 0.        , 0.        , ..., 0.        , 0.        ,\n",
       "        0.        ],\n",
       "       [0.        , 0.        , 0.        , ..., 0.        , 0.        ,\n",
       "        0.        ],\n",
       "       [0.        , 0.        , 0.        , ..., 0.        , 0.        ,\n",
       "        0.        ]])"
      ]
     },
     "execution_count": 8,
     "metadata": {},
     "output_type": "execute_result"
    }
   ],
   "source": [
    "def positional_encoding(row):\n",
    "    \"\"\"Takes a row from our gene_info_df and creates the encoding vector.\"\"\"\n",
    "    encoding = np.zeros(24)\n",
    "    \n",
    "    contig = row['contig']\n",
    "    start = row['start']\n",
    "    \n",
    "    if pd.notna(contig) and contig in chromosome_map:\n",
    "        chr_index = chromosome_map[contig]\n",
    "        chr_length = chromosome_lengths[contig]\n",
    "        \n",
    "        # Calculate normalized position (the magnitude)\n",
    "        normalized_position = start / chr_length\n",
    "        encoding[chr_index] = normalized_position\n",
    "        \n",
    "    return encoding\n",
    "\n",
    "positional_encodings = np.array(gene_info_df.apply(positional_encoding, axis=1).tolist())\n",
    "positional_encodings"
   ]
  },
  {
   "cell_type": "markdown",
   "id": "913b8a0b",
   "metadata": {},
   "source": [
    "##### Prepping Model"
   ]
  },
  {
   "cell_type": "code",
   "execution_count": null,
   "id": "327f2980",
   "metadata": {},
   "outputs": [],
   "source": [
    "X_train_tensor = torch.tensor(X_train, dtype=torch.float32)\n",
    "y_train_tensor = torch.tensor(y_train, dtype=torch.float32)\n",
    "X_test_tensor = torch.tensor(X_test, dtype=torch.float32)\n",
    "y_test_tensor = torch.tensor(y_test, dtype=torch.float32)\n",
    "\n",
    "train_dataset = TensorDataset(X_train_tensor, y_train_tensor)\n",
    "test_dataset = TensorDataset(X_test_tensor, y_test_tensor)\n",
    "\n",
    "batch_size = 64\n",
    "train_loader = DataLoader(train_dataset, batch_size=batch_size, shuffle=True)\n",
    "test_loader = DataLoader(test_dataset, batch_size=batch_size, shuffle=False)"
   ]
  },
  {
   "cell_type": "code",
   "execution_count": null,
   "id": "004c0df9",
   "metadata": {},
   "outputs": [],
   "source": [
    "from modelTRAN import TransMLP\n",
    "\n",
    "input_size = X_train.shape[1] # Number of genes\n",
    "num_classes = labels_int[0].size\n",
    "learning_rate = 0.00026\n",
    "num_epochs = 25\n",
    "\n",
    "model = modelMLP.MLP(input_size=input_size, num_classes=num_classes)\n",
    "criterion = nn.BCEWithLogitsLoss() # Best for multi-class classification\n",
    "optimizer = torch.optim.Adam(model.parameters(), lr=learning_rate, weight_decay= 2e-6)\n",
    "\n",
    "\n",
    "\n"
   ]
  }
 ],
 "metadata": {
  "kernelspec": {
   "display_name": "Python 3",
   "language": "python",
   "name": "python3"
  },
  "language_info": {
   "codemirror_mode": {
    "name": "ipython",
    "version": 3
   },
   "file_extension": ".py",
   "mimetype": "text/x-python",
   "name": "python",
   "nbconvert_exporter": "python",
   "pygments_lexer": "ipython3",
   "version": "3.12.4"
  }
 },
 "nbformat": 4,
 "nbformat_minor": 5
}
