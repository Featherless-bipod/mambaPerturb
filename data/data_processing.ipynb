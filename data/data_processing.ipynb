{
 "cells": [
  {
   "cell_type": "code",
   "execution_count": null,
   "id": "49142071",
   "metadata": {},
   "outputs": [],
   "source": [
    "import scanpy as sc\n",
    "import pandas as pd\n",
    "import numpy as np\n",
    "import pyensembl\n",
    "from tqdm import tqdm\n"
   ]
  },
  {
   "cell_type": "code",
   "execution_count": null,
   "id": "a253d504",
   "metadata": {},
   "outputs": [
    {
     "name": "stderr",
     "output_type": "stream",
     "text": [
      "INFO:pyensembl.sequence_data:Loaded sequence dictionary from /Users/steveyin/Library/Caches/pyensembl/GRCh38/ensembl109/Homo_sapiens.GRCh38.cdna.all.fa.gz.pickle\n",
      "INFO:pyensembl.sequence_data:Loaded sequence dictionary from /Users/steveyin/Library/Caches/pyensembl/GRCh38/ensembl109/Homo_sapiens.GRCh38.ncrna.fa.gz.pickle\n",
      "INFO:pyensembl.sequence_data:Loaded sequence dictionary from /Users/steveyin/Library/Caches/pyensembl/GRCh38/ensembl109/Homo_sapiens.GRCh38.pep.all.fa.gz.pickle\n"
     ]
    }
   ],
   "source": [
    "\n",
    "data = pyensembl.EnsemblRelease(109)\n",
    "data.download()\n",
    "data.index()"
   ]
  },
  {
   "cell_type": "code",
   "execution_count": 3,
   "id": "31a3d20b",
   "metadata": {},
   "outputs": [],
   "source": [
    "adata = sc.read_h5ad('Norman_2019.h5ad')"
   ]
  },
  {
   "cell_type": "code",
   "execution_count": 11,
   "id": "15c1c77b",
   "metadata": {},
   "outputs": [
    {
     "data": {
      "text/plain": [
       "(19018,)"
      ]
     },
     "execution_count": 11,
     "metadata": {},
     "output_type": "execute_result"
    }
   ],
   "source": [
    "adata.var['index'].shape"
   ]
  },
  {
   "cell_type": "code",
   "execution_count": null,
   "id": "046bea98",
   "metadata": {},
   "outputs": [
    {
     "name": "stderr",
     "output_type": "stream",
     "text": [
      "100%|██████████| 19018/19018 [00:00<00:00, 1633738.32it/s]"
     ]
    },
    {
     "name": "stdout",
     "output_type": "stream",
     "text": [
      "            gene_name contig        start          end\n",
      "8000  ENSG00000101843      X  108084207.0  108091549.0\n",
      "8001  ENSG00000101844      X  108091668.0  108154671.0\n",
      "8002  ENSG00000197565      X  108155607.0  108439497.0\n",
      "8003  ENSG00000188153      X  108439838.0  108697545.0\n",
      "8004  ENSG00000101888      X  109535781.0  109544698.0\n",
      "8005  ENSG00000176076      X  109623700.0  109625172.0\n",
      "8006  ENSG00000068366      X  109624244.0  109733403.0\n",
      "8007  ENSG00000157600      X  110002631.0  110182734.0\n",
      "8008  ENSG00000101935      X  110194186.0  110440318.0\n",
      "8009  ENSG00000077264      X  110944285.0  111227361.0\n"
     ]
    },
    {
     "name": "stderr",
     "output_type": "stream",
     "text": [
      "\n"
     ]
    }
   ],
   "source": [
    "gene_names = adata.var['index']\n",
    "\n",
    "gene_data = []\n",
    "for gene_name in tqdm(gene_names):\n",
    "    try:\n",
    "        gene = data.gene_by_id(gene_name)\n",
    "        gene_data.append({\n",
    "            'gene_name': gene_name,\n",
    "            'contig': gene.contig,\n",
    "            'start': gene.start,\n",
    "            'end': gene.end\n",
    "        })\n",
    "    except ValueError:\n",
    "        # This happens if the gene name is not found in the database\n",
    "        gene_data.append({\n",
    "            'gene_name': gene_name,\n",
    "            'contig': None,\n",
    "            'start': None,\n",
    "            'end': None\n",
    "        })\n",
    "\n",
    "gene_info_df = pd.DataFrame(gene_data)"
   ]
  },
  {
   "cell_type": "code",
   "execution_count": 24,
   "id": "60ab9ea7",
   "metadata": {},
   "outputs": [
    {
     "name": "stdout",
     "output_type": "stream",
     "text": [
      "            gene_name contig        start          end\n",
      "8000  ENSG00000101843      X  108084207.0  108091549.0\n",
      "8001  ENSG00000101844      X  108091668.0  108154671.0\n",
      "8002  ENSG00000197565      X  108155607.0  108439497.0\n",
      "8003  ENSG00000188153      X  108439838.0  108697545.0\n",
      "8004  ENSG00000101888      X  109535781.0  109544698.0\n",
      "8005  ENSG00000176076      X  109623700.0  109625172.0\n",
      "8006  ENSG00000068366      X  109624244.0  109733403.0\n",
      "8007  ENSG00000157600      X  110002631.0  110182734.0\n",
      "8008  ENSG00000101935      X  110194186.0  110440318.0\n",
      "8009  ENSG00000077264      X  110944285.0  111227361.0\n"
     ]
    }
   ],
   "source": [
    "ind = 8000\n",
    "print(gene_info_df[ind:ind+10])\n"
   ]
  },
  {
   "cell_type": "code",
   "execution_count": 28,
   "id": "7f3ec6e6",
   "metadata": {},
   "outputs": [],
   "source": [
    "chromosome_lengths = {\n",
    "    # Autosomes\n",
    "    '1': 248956422,\n",
    "    '2': 242193529,\n",
    "    '3': 198295559,\n",
    "    '4': 190214555,\n",
    "    '5': 181538259,\n",
    "    '6': 170805979,\n",
    "    '7': 159345973,\n",
    "    '8': 145138636,\n",
    "    '9': 138394717,\n",
    "    '10': 133797422,\n",
    "    '11': 135086622,\n",
    "    '12': 133275309,\n",
    "    '13': 114364328,\n",
    "    '14': 107043718,\n",
    "    '15': 101991189,\n",
    "    '16': 90338345,\n",
    "    '17': 83257441,\n",
    "    '18': 80373285,\n",
    "    '19': 58617616,\n",
    "    '20': 64444167,\n",
    "    '21': 46709983,\n",
    "    '22': 50818468,\n",
    "    # Sex Chromosomes\n",
    "    'X': 156040895,\n",
    "    'Y': 57227415\n",
    "}\n",
    "\n",
    "chr_names = [str(i) for i in range(1, 23)] + ['X', 'Y']\n",
    "chromosome_map = {name: i for i, name in enumerate(chr_names)}"
   ]
  },
  {
   "cell_type": "code",
   "execution_count": null,
   "id": "157bf22c",
   "metadata": {},
   "outputs": [
    {
     "name": "stdout",
     "output_type": "stream",
     "text": [
      "Shape of positional encoding matrix: (19018, 24)\n"
     ]
    }
   ],
   "source": [
    "def create_positional_encoding(row):\n",
    "    \"\"\"Takes a row from our gene_info_df and creates the encoding vector.\"\"\"\n",
    "    encoding = np.zeros(24)\n",
    "    \n",
    "    contig = row['contig']\n",
    "    start = row['start']\n",
    "    \n",
    "    if pd.notna(contig) and contig in chromosome_map:\n",
    "        chr_index = chromosome_map[contig]\n",
    "        chr_length = chromosome_lengths[contig]\n",
    "        \n",
    "        # Calculate normalized position (the magnitude)\n",
    "        normalized_position = start / chr_length\n",
    "        encoding[chr_index] = normalized_position\n",
    "        \n",
    "    return encoding\n",
    "\n",
    "positional_encodings = np.array(gene_info_df.apply(create_positional_encoding, axis=1).tolist())\n",
    "\n",
    "print(\"Shape of positional encoding matrix:\", positional_encodings.shape)\n",
    "\n",
    "adata.varm['positional_encoding'] = positional_encodings"
   ]
  },
  {
   "cell_type": "code",
   "execution_count": null,
   "id": "034caa90",
   "metadata": {},
   "outputs": [
    {
     "data": {
      "text/plain": [
       "['guide_identity',\n",
       " 'read_count',\n",
       " 'UMI_count',\n",
       " 'coverage',\n",
       " 'gemgroup',\n",
       " 'good_coverage',\n",
       " 'number_of_cells',\n",
       " 'guide_AHR',\n",
       " 'guide_ARID1A',\n",
       " 'guide_ARRDC3',\n",
       " 'guide_ATL1',\n",
       " 'guide_BAK1',\n",
       " 'guide_BCL2L11',\n",
       " 'guide_BCORL1',\n",
       " 'guide_BPGM',\n",
       " 'guide_C19orf26',\n",
       " 'guide_C3orf72',\n",
       " 'guide_CBFA2T3',\n",
       " 'guide_CBL',\n",
       " 'guide_CDKN1A',\n",
       " 'guide_CDKN1B',\n",
       " 'guide_CDKN1C',\n",
       " 'guide_CEBPA',\n",
       " 'guide_CEBPB',\n",
       " 'guide_CEBPE',\n",
       " 'guide_CELF2',\n",
       " 'guide_CITED1',\n",
       " 'guide_CKS1B',\n",
       " 'guide_CLDN6',\n",
       " 'guide_CNN1',\n",
       " 'guide_CNNM4',\n",
       " 'guide_COL1A1',\n",
       " 'guide_COL2A1',\n",
       " 'guide_CSRNP1',\n",
       " 'guide_DLX2',\n",
       " 'guide_DUSP9',\n",
       " 'guide_EGR1',\n",
       " 'guide_ELMSAN1',\n",
       " 'guide_ETS2',\n",
       " 'guide_FEV',\n",
       " 'guide_FOSB',\n",
       " 'guide_FOXA1',\n",
       " 'guide_FOXA3',\n",
       " 'guide_FOXF1',\n",
       " 'guide_FOXL2',\n",
       " 'guide_FOXO4',\n",
       " 'guide_GLB1L2',\n",
       " 'guide_HES7',\n",
       " 'guide_HK2',\n",
       " 'guide_HNF4A',\n",
       " 'guide_HOXA13',\n",
       " 'guide_HOXB9',\n",
       " 'guide_HOXC13',\n",
       " 'guide_IER5L',\n",
       " 'guide_IGDCC3',\n",
       " 'guide_IKZF3',\n",
       " 'guide_IRF1',\n",
       " 'guide_ISL2',\n",
       " 'guide_JUN',\n",
       " 'guide_KIAA1804',\n",
       " 'guide_KIF18B',\n",
       " 'guide_KIF2C',\n",
       " 'guide_KLF1',\n",
       " 'guide_KMT2A',\n",
       " 'guide_LHX1',\n",
       " 'guide_LYL1',\n",
       " 'guide_MAML2',\n",
       " 'guide_MAP2K3',\n",
       " 'guide_MAP2K6',\n",
       " 'guide_MAP4K3',\n",
       " 'guide_MAP4K5',\n",
       " 'guide_MAP7D1',\n",
       " 'guide_MAPK1',\n",
       " 'guide_MEIS1',\n",
       " 'guide_MIDN',\n",
       " 'guide_NCL',\n",
       " 'guide_NIT1',\n",
       " 'guide_OSR2',\n",
       " 'guide_PLK4',\n",
       " 'guide_POU3F2',\n",
       " 'guide_PRDM1',\n",
       " 'guide_PRTG',\n",
       " 'guide_PTPN1',\n",
       " 'guide_PTPN12',\n",
       " 'guide_PTPN13',\n",
       " 'guide_PTPN9',\n",
       " 'guide_RHOXF2',\n",
       " 'guide_RREB1',\n",
       " 'guide_RUNX1T1',\n",
       " 'guide_S1PR2',\n",
       " 'guide_SAMD1',\n",
       " 'guide_SET',\n",
       " 'guide_SGK1',\n",
       " 'guide_SLC38A2',\n",
       " 'guide_SLC4A1',\n",
       " 'guide_SLC6A9',\n",
       " 'guide_SNAI1',\n",
       " 'guide_SPI1',\n",
       " 'guide_STIL',\n",
       " 'guide_TBX2',\n",
       " 'guide_TBX3',\n",
       " 'guide_TGFBR2',\n",
       " 'guide_TMSB4X',\n",
       " 'guide_TP73',\n",
       " 'guide_TSC22D1',\n",
       " 'guide_UBASH3A',\n",
       " 'guide_UBASH3B',\n",
       " 'guide_ZBTB1',\n",
       " 'guide_ZBTB10',\n",
       " 'guide_ZBTB25',\n",
       " 'guide_ZC3HAV1',\n",
       " 'guide_ZNF318',\n",
       " 'guide_ids',\n",
       " 'n_genes',\n",
       " 'n_genes_by_counts',\n",
       " 'total_counts',\n",
       " 'total_counts_mt',\n",
       " 'pct_counts_mt',\n",
       " 'leiden',\n",
       " 'perturbation_name',\n",
       " 'perturbation_type',\n",
       " 'perturbation_value',\n",
       " 'perturbation_unit']"
      ]
     },
     "execution_count": 13,
     "metadata": {},
     "output_type": "execute_result"
    }
   ],
   "source": []
  }
 ],
 "metadata": {
  "kernelspec": {
   "display_name": "Python 3",
   "language": "python",
   "name": "python3"
  },
  "language_info": {
   "codemirror_mode": {
    "name": "ipython",
    "version": 3
   },
   "file_extension": ".py",
   "mimetype": "text/x-python",
   "name": "python",
   "nbconvert_exporter": "python",
   "pygments_lexer": "ipython3",
   "version": "3.12.4"
  }
 },
 "nbformat": 4,
 "nbformat_minor": 5
}
